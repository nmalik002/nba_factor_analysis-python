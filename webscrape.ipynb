{
 "cells": [
  {
   "cell_type": "code",
   "execution_count": 11,
   "metadata": {},
   "outputs": [],
   "source": [
    "from urllib.request import urlopen\n",
    "import requests\n",
    "from bs4 import BeautifulSoup\n",
    "import pandas as pd\n",
    "from sklearn.preprocessing import StandardScaler"
   ]
  },
  {
   "cell_type": "code",
   "execution_count": 12,
   "metadata": {},
   "outputs": [],
   "source": [
    "urls = ['https://www.basketball-reference.com/players/s/sabondo01.html',\n",
    "       'https://www.basketball-reference.com/players/r/redicjj01.html',\n",
    "       'https://www.basketball-reference.com/players/b/bogdabo02.html',\n",
    "       'https://www.basketball-reference.com/players/b/bogdabo01.html',\n",
    "       'https://www.basketball-reference.com/players/d/doncilu01.html',\n",
    "       'https://www.basketball-reference.com/players/j/jokicni01.html',\n",
    "       'https://www.basketball-reference.com/players/p/porzikr01.html',\n",
    "       'https://www.basketball-reference.com/players/v/vucevni01.html',\n",
    "       'https://www.basketball-reference.com/players/n/nurkiju01.html',\n",
    "       'https://www.basketball-reference.com/players/s/saricda01.html',\n",
    "       'https://www.basketball-reference.com/players/w/westbru01.html',\n",
    "       'https://www.basketball-reference.com/players/d/derozde01.html',\n",
    "       'https://www.basketball-reference.com/players/g/griffbl01.html',\n",
    "       'https://www.basketball-reference.com/players/l/lavinza01.html',\n",
    "       'https://www.basketball-reference.com/players/g/gordoaa01.html',\n",
    "       'https://www.basketball-reference.com/players/g/gasolma01.html',\n",
    "       'https://www.basketball-reference.com/players/h/holidjr01.html',\n",
    "       'https://www.basketball-reference.com/players/j/jonesde02.html',\n",
    "       'https://www.basketball-reference.com/players/p/paulch01.html',\n",
    "       'https://www.basketball-reference.com/players/w/walljo01.html',\n",
    "       'https://www.basketball-reference.com/players/i/inglejo01.html',\n",
    "       'https://www.basketball-reference.com/players/g/gallida01.html',\n",
    "       'https://www.basketball-reference.com/players/v/valanjo01.html',\n",
    "       'https://www.basketball-reference.com/players/g/gasolpa01.html',\n",
    "       'https://www.basketball-reference.com/players/p/parketo01.html',\n",
    "       'https://www.basketball-reference.com/players/n/nowitdi01.html',\n",
    "       'https://www.basketball-reference.com/players/d/duncati01.html',\n",
    "       'https://www.basketball-reference.com/players/b/bryanko01.html',\n",
    "       'https://www.basketball-reference.com/players/s/stojape01.html']\n",
    "player = ['Domantas Sabonis','JJ Redick','Bojan Bogdanovic','Bodgan Bogdanovic',\n",
    "          'Luka Doncic','Nikola Jokic','Kristaps Porzingis','Nikola Vucevic',\n",
    "          'Jusuf Nurkic','Dario Saric','Russell Westbrook','Demar Derozan','Blake Griffen',\n",
    "         'Zach Lavine','Aaron Gordon','Marc Gasol','Jrue Holiday','Derick Jones Jr.',\n",
    "          'Chris Paul','John Wall','Joe Ingles','Danilo Gallinari','Jonas Valanciunas','Pau Gasol',\n",
    "          'Tony Parker','Dirk Nowitzky','Tim Duncan','Kobe Bryant','Peja Stojakovic']\n",
    "\n",
    "stats = ['g','fga_per_g','fg3_pct',\n",
    "         'fg2_pct','efg_pct','ft_pct','tov_per_g','orb_per_g']\n",
    "stat = ['fga_per_g','fg3_pct',\n",
    "         'fg2_pct','efg_pct','ft_pct','tov_per_g','orb_per_g']\n"
   ]
  },
  {
   "cell_type": "code",
   "execution_count": 13,
   "metadata": {},
   "outputs": [],
   "source": [
    "games = []\n",
    "fga_per_g = []\n",
    "fg3_pct = []\n",
    "fg2_pct = []\n",
    "efg_pct = []\n",
    "ft_pct = []\n",
    "tov_per_g = []\n",
    "orb_per_g = []\n",
    "\n",
    "hdf = pd.DataFrame()\n",
    "for i in range(len(urls)):\n",
    "    b_page = requests.get(urls[i])\n",
    "    b_soup = BeautifulSoup(b_page.content, 'html.parser')\n",
    "    stats_list = [[td.getText() for td in b_soup.findAll('td', {'data-stat': stat})] for stat in stats]\n",
    "    df = pd.DataFrame(stats_list).T\n",
    "    df.columns = stats\n",
    "    #gets rid of row with empty spaces\n",
    "    df = df[df.g != '']\n",
    "    #convert games column from string to int\n",
    "    df['g'] = df['g'].astype(int)\n",
    "    #find max games row which is the row with averages per player\n",
    "    df = df.iloc[df['g'].idxmax()]\n",
    "    games.append(df[0])\n",
    "    fga_per_g.append(df[1])\n",
    "    fg3_pct.append(df[2])\n",
    "    fg2_pct.append(df[3])\n",
    "    efg_pct.append(df[4])\n",
    "    ft_pct.append(df[5])\n",
    "    tov_per_g.append(df[6])\n",
    "    orb_per_g.append(df[7])"
   ]
  },
  {
   "cell_type": "code",
   "execution_count": 14,
   "metadata": {},
   "outputs": [],
   "source": [
    "hdf['player'] = player\n",
    "hdf['games'] = games\n",
    "hdf['fga_per_g'] = fga_per_g\n",
    "hdf['fg3_pct'] = fg3_pct\n",
    "hdf['fg2_pct'] = fg2_pct\n",
    "hdf['efg_pct'] = efg_pct\n",
    "hdf['ft_pct'] = ft_pct\n",
    "hdf['tov_per_g'] = tov_per_g\n",
    "hdf['orb_per_g'] = orb_per_g\n",
    "hdf\n",
    "colum = list(hdf.columns)\n",
    "hdf = hdf[['player','games',\n",
    " 'fga_per_g',\n",
    " 'fg3_pct',\n",
    " 'fg2_pct',\n",
    " 'efg_pct',\n",
    " 'ft_pct',\n",
    " 'tov_per_g',\n",
    " 'orb_per_g']]\n"
   ]
  },
  {
   "cell_type": "code",
   "execution_count": 15,
   "metadata": {},
   "outputs": [],
   "source": [
    "hdf = hdf.set_index('player')\n",
    "hdf = hdf.drop(['games'], axis=1)"
   ]
  },
  {
   "cell_type": "code",
   "execution_count": 16,
   "metadata": {},
   "outputs": [],
   "source": [
    "#standardize data due to varying units across features\n",
    "scaler = StandardScaler()\n",
    "scaled_df = scaler.fit_transform(hdf)\n",
    "\n",
    "sdf = pd.DataFrame(data = scaled_df, index = player, columns = stat)\n",
    "sdf.to_csv('sdf.csv')"
   ]
  }
 ],
 "metadata": {
  "kernelspec": {
   "display_name": "Python 3",
   "language": "python",
   "name": "python3"
  },
  "language_info": {
   "codemirror_mode": {
    "name": "ipython",
    "version": 3
   },
   "file_extension": ".py",
   "mimetype": "text/x-python",
   "name": "python",
   "nbconvert_exporter": "python",
   "pygments_lexer": "ipython3",
   "version": "3.7.6"
  }
 },
 "nbformat": 4,
 "nbformat_minor": 4
}
